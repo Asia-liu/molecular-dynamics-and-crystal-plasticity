{
 "cells": [
  {
   "cell_type": "code",
   "execution_count": 17,
   "id": "3e9f3d5f",
   "metadata": {},
   "outputs": [],
   "source": [
    "import damask\n",
    "import numpy as np\n",
    "import pyvista as pv\n",
    "pv.set_jupyter_backend('static')"
   ]
  },
  {
   "cell_type": "code",
   "execution_count": 18,
   "id": "b98bd82b",
   "metadata": {},
   "outputs": [],
   "source": [
    "# adjust to your situation, input file needs to exist\n",
    "cells = [200,200,200]\n",
    "file_name_in_1  = 'cubic_texture_equiaxed_damask.dream3d'\n",
    "file_name_out_1 = f'cubic_texture_equiaxed_damask.vti'"
   ]
  },
  {
   "cell_type": "code",
   "execution_count": 19,
   "id": "38c02d9c",
   "metadata": {},
   "outputs": [],
   "source": [
    "grid1 = damask.Grid.load_DREAM3D(file_name_in_1,feature_IDs=None, cell_data=None, phases='Phases', Euler_angles='EulerAngles', base_group=None)"
   ]
  },
  {
   "cell_type": "code",
   "execution_count": 20,
   "id": "3812e5d1",
   "metadata": {},
   "outputs": [],
   "source": [
    "scaled1 = grid1.scale(cells)"
   ]
  },
  {
   "cell_type": "code",
   "execution_count": 21,
   "id": "646db90a",
   "metadata": {},
   "outputs": [],
   "source": [
    "scaled1.save(file_name_out_1)"
   ]
  },
  {
   "cell_type": "code",
   "execution_count": 22,
   "id": "c4b4228d",
   "metadata": {},
   "outputs": [
    {
     "data": {
      "text/plain": [
       "cells:  200 × 200 × 200\n",
       "size:   75.0 × 75.0 × 75.0 m³\n",
       "origin: 0.0   0.0   0.0 m\n",
       "# materials: 265"
      ]
     },
     "execution_count": 22,
     "metadata": {},
     "output_type": "execute_result"
    }
   ],
   "source": [
    "scaled1 "
   ]
  },
  {
   "cell_type": "code",
   "execution_count": 23,
   "id": "8feca455",
   "metadata": {},
   "outputs": [],
   "source": [
    "config1=damask.ConfigMaterial.load_DREAM3D(file_name_in_1, grain_data=None, cell_data=None, cell_ensemble_data='CellEnsembleData', phases='Phases', Euler_angles='EulerAngles', phase_names='PhaseName', base_group=None)"
   ]
  },
  {
   "cell_type": "code",
   "execution_count": 24,
   "id": "b9b036c5",
   "metadata": {},
   "outputs": [],
   "source": [
    "config1.save()"
   ]
  },
  {
   "cell_type": "code",
   "execution_count": 25,
   "id": "1b4243a8",
   "metadata": {},
   "outputs": [],
   "source": [
    "geom = 'cubic_texture_equiaxed_damask.vti'       # path for geometry file\n",
    "material_config = 'material.yaml'    # path for material.yaml"
   ]
  },
  {
   "cell_type": "code",
   "execution_count": 26,
   "id": "c845e475",
   "metadata": {},
   "outputs": [],
   "source": [
    "v = damask.VTK.load(geom)\n",
    "material_ID = v.get('material').flatten()"
   ]
  },
  {
   "cell_type": "code",
   "execution_count": 27,
   "id": "8d4a84e7",
   "metadata": {},
   "outputs": [],
   "source": [
    "ma = damask.ConfigMaterial.load(material_config)\n",
    "\n",
    "phases = list(ma['phase'].keys())\n",
    "info = []\n",
    "\n",
    "for m in ma['material']:\n",
    "    c = m['constituents'][0]\n",
    "    phase = c['phase']\n",
    "    info.append({'phase':   phase,\n",
    "                 'phaseID': phases.index(phase),\n",
    "                 'lattice': ma['phase'][phase]['lattice'],\n",
    "                 'O':       c['O'],\n",
    "                })"
   ]
  },
  {
   "cell_type": "code",
   "execution_count": 28,
   "id": "37a07e01",
   "metadata": {},
   "outputs": [],
   "source": [
    "l = np.array([0,0,1])                            # lab frame direction for IPF\n",
    "\n",
    "IPF = np.ones((len(material_ID),3),np.uint8)\n",
    "for i,data in enumerate(info):\n",
    "    IPF[np.where(material_ID==i)] = \\\n",
    "    np.uint8(damask.Orientation(data['O'],lattice=data['lattice']).IPF_color(l)*255)"
   ]
  },
  {
   "cell_type": "code",
   "execution_count": 29,
   "id": "881b097a",
   "metadata": {},
   "outputs": [],
   "source": [
    "v = v.set(f'IPF_{l}',IPF)\n",
    "\n",
    "p   = np.array([d['phase'] for d in info])\n",
    "pid = np.array([d['phaseID'] for d in info])\n",
    "v = v.set('phase',p[material_ID],'phase')\n",
    "v = v.set('phaseID',pid[material_ID],'phaseID')\n",
    "\n",
    "v.save('cubic_texture_equiaxed_damask.vti_IPF+phase')"
   ]
  },
  {
   "cell_type": "code",
   "execution_count": 30,
   "id": "5ecc7519",
   "metadata": {},
   "outputs": [],
   "source": [
    "#q = np.array([0,1,1])                            # lab frame direction for IPF\n",
    "#\n",
    "#IPFm = np.ones((len(material_ID),3),np.uint8)\n",
    "#for i,data in enumerate(info):\n",
    "#    IPFm[np.where(material_ID==i)] = np.uint8(damask.Orientation(data['O'],lattice=data['lattice']).IPF_color(q)*255)"
   ]
  },
  {
   "cell_type": "code",
   "execution_count": 31,
   "id": "5411fbde",
   "metadata": {},
   "outputs": [],
   "source": [
    "#t = v.set(f'IPFm_{q}',IPF)\n",
    "#w   = np.array([d['phase'] for d in info])\n",
    "#wid = np.array([d['phaseID'] for d in info])\n",
    "#t = v.set('phase',w[material_ID],'phase')\n",
    "#t = v.set('phaseID',wid[material_ID],'phaseID')\n",
    "#t.save('cubic_texture_elongated_grains_initial_IPFq+phase')"
   ]
  },
  {
   "cell_type": "code",
   "execution_count": null,
   "id": "6ebca0b5",
   "metadata": {},
   "outputs": [],
   "source": []
  },
  {
   "cell_type": "code",
   "execution_count": null,
   "id": "97945578",
   "metadata": {},
   "outputs": [],
   "source": []
  }
 ],
 "metadata": {
  "kernelspec": {
   "display_name": "Python 3 (ipykernel)",
   "language": "python",
   "name": "python3"
  },
  "language_info": {
   "codemirror_mode": {
    "name": "ipython",
    "version": 3
   },
   "file_extension": ".py",
   "mimetype": "text/x-python",
   "name": "python",
   "nbconvert_exporter": "python",
   "pygments_lexer": "ipython3",
   "version": "3.9.12"
  }
 },
 "nbformat": 4,
 "nbformat_minor": 5
}
