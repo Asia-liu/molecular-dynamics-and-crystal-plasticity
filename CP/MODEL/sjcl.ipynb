{
 "cells": [
  {
   "cell_type": "code",
   "execution_count": 1,
   "id": "ec7e65a5",
   "metadata": {},
   "outputs": [],
   "source": [
    "import damask\n",
    "import numpy as np\n",
    "import pandas as pd\n",
    "import matplotlib.pyplot as plt"
   ]
  },
  {
   "cell_type": "code",
   "execution_count": 2,
   "id": "72a10073",
   "metadata": {},
   "outputs": [
    {
     "data": {
      "text/plain": [
       "\u001b[2mCreated by DAMASK_grid v3.0.0-alpha7\n",
       "        on 2023-08-25 09:07:02+0800\n",
       " executing \"DAMASK_grid --load tensionX.yaml --geom 2cubic_texture_elongated_grains.vti\"\u001b[0m\n",
       "\n",
       "increment_0 (0.0 s)\n",
       "  phase\n",
       "    Primary\n",
       "      mechanical\n",
       "        F / 1: deformation gradient\n",
       "        F_e / 1: elastic deformation gradient\n",
       "        F_p / 1: plastic deformation gradient\n",
       "        L_p / 1/s: plastic velocity gradient\n",
       "        O / q_0 (q_1 q_2 q_3): crystal orientation as quaternion\n",
       "        P / Pa: first Piola-Kirchhoff stress\n",
       "  homogenization\n",
       "    direct\n",
       "      mechanical"
      ]
     },
     "execution_count": 2,
     "metadata": {},
     "output_type": "execute_result"
    }
   ],
   "source": [
    "res = damask.Result('2cubic_texture_elongated_grains_tensionX.hdf5')\n",
    "res.view(increments=0)"
   ]
  },
  {
   "cell_type": "code",
   "execution_count": 3,
   "id": "b2f44b22",
   "metadata": {},
   "outputs": [
    {
     "name": "stderr",
     "output_type": "stream",
     "text": [
      " ██████████████████████████████████████████████████ 100% ETA 0:00:00\n",
      " ██████████████████████████████████████████████████ 100% ETA 0:00:00\n"
     ]
    },
    {
     "data": {
      "text/plain": [
       "\u001b[2mCreated by DAMASK_grid v3.0.0-alpha7\n",
       "        on 2023-08-25 09:07:02+0800\n",
       " executing \"DAMASK_grid --load tensionX.yaml --geom 2cubic_texture_elongated_grains.vti\"\u001b[0m\n",
       "\n",
       "increment_0 (0.0 s)\n",
       "  phase\n",
       "    Primary\n",
       "      mechanical\n",
       "        F / 1: deformation gradient\n",
       "        F_e / 1: elastic deformation gradient\n",
       "        F_p / 1: plastic deformation gradient\n",
       "        L_p / 1/s: plastic velocity gradient\n",
       "        O / q_0 (q_1 q_2 q_3): crystal orientation as quaternion\n",
       "        P / Pa: first Piola-Kirchhoff stress\n",
       "        epsilon_V^0.0(F) / 1: strain tensor of F (deformation gradient)\n",
       "        sigma / Pa: Cauchy stress calculated from P (first Piola-Kirchhoff stress) and F (deformation gradient)\n",
       "  homogenization\n",
       "    direct\n",
       "      mechanical"
      ]
     },
     "execution_count": 3,
     "metadata": {},
     "output_type": "execute_result"
    }
   ],
   "source": [
    "res.add_stress_Cauchy()\n",
    "res.add_strain()\n",
    "# list data (undeformed configuration)\n",
    "res.view(increments=0)"
   ]
  },
  {
   "cell_type": "code",
   "execution_count": 4,
   "id": "7289cc4d",
   "metadata": {
    "scrolled": true
   },
   "outputs": [
    {
     "name": "stderr",
     "output_type": "stream",
     "text": [
      " ██████████████████████████████████████████████████ 100% ETA 0:00:00\n",
      " ██████████████████████████████████████████████████ 100% ETA 0:00:00\n"
     ]
    },
    {
     "data": {
      "text/plain": [
       "\u001b[2mCreated by DAMASK_grid v3.0.0-alpha7\n",
       "        on 2023-08-25 09:07:02+0800\n",
       " executing \"DAMASK_grid --load tensionX.yaml --geom 2cubic_texture_elongated_grains.vti\"\u001b[0m\n",
       "\n",
       "increment_0 (0.0 s)\n",
       "  phase\n",
       "    Primary\n",
       "      mechanical\n",
       "        F / 1: deformation gradient\n",
       "        F_e / 1: elastic deformation gradient\n",
       "        F_p / 1: plastic deformation gradient\n",
       "        L_p / 1/s: plastic velocity gradient\n",
       "        O / q_0 (q_1 q_2 q_3): crystal orientation as quaternion\n",
       "        P / Pa: first Piola-Kirchhoff stress\n",
       "        epsilon_V^0.0(F) / 1: strain tensor of F (deformation gradient)\n",
       "        epsilon_V^0.0(F)_vM / 1: Mises equivalent strain of epsilon_V^0.0(F) (strain tensor of F (deformation gradient))\n",
       "        sigma / Pa: Cauchy stress calculated from P (first Piola-Kirchhoff stress) and F (deformation gradient)\n",
       "        sigma_vM / Pa: Mises equivalent stress of sigma (Cauchy stress calculated from P (first Piola-Kirchhoff stress) and F (deformation gradient))\n",
       "  homogenization\n",
       "    direct\n",
       "      mechanical"
      ]
     },
     "execution_count": 4,
     "metadata": {},
     "output_type": "execute_result"
    }
   ],
   "source": [
    "res.add_equivalent_Mises('sigma')\n",
    "res.add_equivalent_Mises('epsilon_V^0.0(F)')\n",
    "# list data (undeformed configuration)\n",
    "res.view(increments=0)"
   ]
  },
  {
   "cell_type": "code",
   "execution_count": 5,
   "id": "ea53eb76",
   "metadata": {},
   "outputs": [
    {
     "name": "stderr",
     "output_type": "stream",
     "text": [
      " ██████████████████████████████████████████████████ 100% ETA 0:00:00\n",
      " ██████████████████████████████████████████████████ 100% ETA 0:00:00\n",
      " ██████████████████████████████████████████████████ 100% ETA 0:00:00\n"
     ]
    },
    {
     "data": {
      "text/plain": [
       "[<matplotlib.lines.Line2D at 0x2561ecaaf10>]"
      ]
     },
     "execution_count": 5,
     "metadata": {},
     "output_type": "execute_result"
    },
    {
     "data": {
      "image/png": "[encoded data removed]",
      "text/plain": [
       "<Figure size 640x480 with 1 Axes>"
      ]
     },
     "metadata": {},
     "output_type": "display_data"
    }
   ],
   "source": [
    "res.get('sigma')\n",
    "sigma=[np.average(s) for s in res.get('sigma_vM').values()]\n",
    "epsilon=[np.average(e) for e in res.get('epsilon_V^0.0(F)_vM').values()]\n",
    "plt.plot(epsilon,sigma)"
   ]
  },
  {
   "cell_type": "code",
   "execution_count": 6,
   "id": "bd04ba0a",
   "metadata": {},
   "outputs": [
    {
     "name": "stderr",
     "output_type": "stream",
     "text": [
      " ██████████████████████████████████████████████████ 100% ETA 0:00:00\n"
     ]
    }
   ],
   "source": [
    "\n",
    "res.export_VTK()"
   ]
  },
  {
   "cell_type": "code",
   "execution_count": 7,
   "id": "0d934ea3",
   "metadata": {},
   "outputs": [
    {
     "data": {
      "text/plain": [
       "[0.0,\n",
       " 0.0009388923465468752,\n",
       " 0.0018853133373285499,\n",
       " 0.00289052111743847,\n",
       " 0.003936615858663279,\n",
       " 0.004997547681735703,\n",
       " 0.0060653760073063005,\n",
       " 0.007136927763174263,\n",
       " 0.00821059753739367,\n",
       " 0.009285530128791441,\n",
       " 0.010361112592507856,\n",
       " 0.031801361420023294,\n",
       " 0.05295167785496349,\n",
       " 0.07373724647422492,\n",
       " 0.09413199245525213,\n",
       " 0.11412570499567176,\n",
       " 0.133718794360493,\n",
       " 0.1529183988799741,\n",
       " 0.17173436985841892,\n",
       " 0.19017781739717435,\n",
       " 0.20826097443577923,\n",
       " 0.22599678879011478,\n",
       " 0.2433983206891766,\n",
       " 0.26047805366708116,\n",
       " 0.27724838969059923,\n",
       " 0.2937212316819823,\n",
       " 0.3099083159924909,\n",
       " 0.32582033659351584,\n",
       " 0.34146750031747514,\n",
       " 0.3568595803952074,\n",
       " 0.37200613760472667,\n",
       " 0.3869160118373755,\n",
       " 0.4015978704999433,\n",
       " 0.41605972077123354,\n",
       " 0.43030901080125367,\n",
       " 0.4443527139005563,\n",
       " 0.45819745345340734,\n",
       " 0.4718495989586147,\n",
       " 0.48531506803109914,\n",
       " 0.4985994379527571,\n",
       " 0.5117081011753215]"
      ]
     },
     "execution_count": 7,
     "metadata": {},
     "output_type": "execute_result"
    }
   ],
   "source": [
    "epsilon"
   ]
  },
  {
   "cell_type": "code",
   "execution_count": 8,
   "id": "7b805ecc",
   "metadata": {},
   "outputs": [
    {
     "data": {
      "text/plain": [
       "[5.0822124309161023e-05,\n",
       " 142831251.8972031,\n",
       " 274593526.863272,\n",
       " 318625527.6333357,\n",
       " 327126280.4901255,\n",
       " 331669578.7126815,\n",
       " 335053238.97726846,\n",
       " 337906825.95385087,\n",
       " 340466820.91158503,\n",
       " 342834470.7548139,\n",
       " 345059435.084363,\n",
       " 377458646.6617429,\n",
       " 401474642.6663367,\n",
       " 420920243.03634465,\n",
       " 437239427.2283834,\n",
       " 451237543.92793334,\n",
       " 463435751.3274631,\n",
       " 474176961.1709498,\n",
       " 483715562.5852134,\n",
       " 492251844.8451575,\n",
       " 499924783.1619892,\n",
       " 506859389.2359077,\n",
       " 513161640.04708874,\n",
       " 518909987.5802978,\n",
       " 524179478.0769171,\n",
       " 529041218.05463594,\n",
       " 533542726.4318247,\n",
       " 537723227.2101789,\n",
       " 541617157.2498589,\n",
       " 545253689.0728089,\n",
       " 548663107.6096989,\n",
       " 551863434.4671797,\n",
       " 554880484.1972404,\n",
       " 557733049.1023493,\n",
       " 560438360.7488471,\n",
       " 563008760.3436584,\n",
       " 565458845.5185924,\n",
       " 567801536.0309305,\n",
       " 570044187.4007773,\n",
       " 572192796.3576559,\n",
       " 574255680.227415]"
      ]
     },
     "execution_count": 8,
     "metadata": {},
     "output_type": "execute_result"
    }
   ],
   "source": [
    "sigma"
   ]
  },
  {
   "cell_type": "code",
   "execution_count": null,
   "id": "70267fd9",
   "metadata": {},
   "outputs": [],
   "source": []
  }
 ],
 "metadata": {
  "kernelspec": {
   "display_name": "Python 3 (ipykernel)",
   "language": "python",
   "name": "python3"
  },
  "language_info": {
   "codemirror_mode": {
    "name": "ipython",
    "version": 3
   },
   "file_extension": ".py",
   "mimetype": "text/x-python",
   "name": "python",
   "nbconvert_exporter": "python",
   "pygments_lexer": "ipython3",
   "version": "3.9.12"
  }
 },
 "nbformat": 4,
 "nbformat_minor": 5
}
